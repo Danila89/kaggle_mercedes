{
 "cells": [
  {
   "cell_type": "code",
   "execution_count": 69,
   "metadata": {
    "collapsed": false
   },
   "outputs": [],
   "source": [
    "import pandas as pd\n",
    "import numpy as np\n",
    "import xgboost as xgb\n",
    "import types\n",
    "\n",
    "#\n",
    "#    This is just the estimator which fits four separate estimators on the entire DataFrame.\n",
    "#    When predicting it splits pandas dataframe by column 'labels' and for each group\n",
    "#    returns the prediction of corresponding estimator\n",
    "#\n",
    "from sep_estimator import sep_estimator\n",
    "\n",
    "#\n",
    "#    This class finds the cluster labels. See kernel on kaggle:\n",
    "#    https://www.kaggle.com/daniel89/mercedes-cars-clustering/\n",
    "#\n",
    "from cluster_target_encoder import cluster_target_encoder\n",
    "from scipy import stats\n",
    "from sklearn.cluster import KMeans"
   ]
  },
  {
   "cell_type": "code",
   "execution_count": 70,
   "metadata": {
    "collapsed": true
   },
   "outputs": [],
   "source": [
    "train = pd.read_csv('../input/train.csv')\n",
    "X_test = pd.read_csv('../input/test.csv')\n",
    "X_train = train.drop(['y'],axis=1)\n",
    "y_train = train['y']"
   ]
  },
  {
   "cell_type": "markdown",
   "metadata": {},
   "source": [
    "Here we find the cluster labels"
   ]
  },
  {
   "cell_type": "code",
   "execution_count": 71,
   "metadata": {
    "collapsed": false
   },
   "outputs": [],
   "source": [
    "encoder = cluster_target_encoder(nclusters=4,seed=4)\n",
    "labels_train = encoder.fit_transform(X_train['X0'],train['y'])\n",
    "labels_test = encoder.transform(X_test['X0'])\n",
    "est = xgb.XGBClassifier()\n",
    "est.fit(X_train.select_dtypes(include=[np.number]),labels_train)\n",
    "labels_test[np.isnan(labels_test)] = est.predict(\n",
    "    X_test.select_dtypes(include=[np.number]))[np.isnan(labels_test)]\n",
    "X_train['labels'] = labels_train\n",
    "X_test['labels'] = labels_test"
   ]
  },
  {
   "cell_type": "markdown",
   "metadata": {},
   "source": [
    "Let's glance at the target's distributions for our clusters. They obviously represent different components of the distribution. The core idea is that to predict each of these components we may need different subset of features, different parameters of the algorithm, even may be different algorithm."
   ]
  },
  {
   "cell_type": "code",
   "execution_count": 74,
   "metadata": {
    "collapsed": false
   },
   "outputs": [
    {
     "name": "stdout",
     "output_type": "stream",
     "text": [
      "Populating the interactive namespace from numpy and matplotlib\n"
     ]
    },
    {
     "data": {
      "image/png": "[encoded data removed]",
      "text/plain": [
       "<matplotlib.figure.Figure at 0x11f1cdd8>"
      ]
     },
     "metadata": {},
     "output_type": "display_data"
    }
   ],
   "source": [
    "%pylab inline\n",
    "plt.figure(figsize(10,5))\n",
    "plt.hist(y_train.values[X_train['labels']==0],bins=70,label='cluster 0')\n",
    "plt.hist(y_train.values[X_train['labels']==1],bins=100,label='cluster 1')\n",
    "plt.hist(y_train.values[X_train['labels']==2],bins=70,label='cluster 2')\n",
    "plt.hist(y_train.values[X_train['labels']==3],bins=70,label='cluster 3')\n",
    "plt.legend()\n",
    "plt.title('Train targets distribution for all clusters')\n",
    "plt.xlim((60,170))\n",
    "plt.show()"
   ]
  },
  {
   "cell_type": "markdown",
   "metadata": {},
   "source": [
    "Now back to our features"
   ]
  },
  {
   "cell_type": "code",
   "execution_count": 75,
   "metadata": {
    "collapsed": false
   },
   "outputs": [],
   "source": [
    "#\n",
    "#   Just drop X4 because is is almost constant\n",
    "#\n",
    "\n",
    "if 'X4' in X_train.columns.values:\n",
    "    X_train = X_train.drop('X4',axis=1)\n",
    "if 'X4' in X_test.columns.values:\n",
    "    X_test = X_test.drop('X4',axis=1)\n",
    "\n",
    "#\n",
    "#   Drop binary features with zero standard deviation\n",
    "#\n",
    "\n",
    "zero_std = X_train.std()[X_train.std()==0].index\n",
    "X_train = X_train.drop(zero_std,axis=1)\n",
    "X_test = X_test.drop(zero_std,axis=1)\n",
    "\n",
    "#\n",
    "#   Drop features with statistically significant difference of means\n",
    "#   in train and test. Well, I'm aware about normality assumption in ttest_rel,\n",
    "#   but in case of 4200 samples the sample average is almost normally\n",
    "#   distributed, the sample variance is almost chi2 distributed\n",
    "#   and actually ttest is almost like ztest.\n",
    "#\n",
    "\n",
    "different_cols = []\n",
    "for c in X_train.select_dtypes(include=[np.number]).columns:\n",
    "    tt = stats.ttest_ind(X_train[c],X_test[c])\n",
    "    if tt[1]<0.05:\n",
    "        different_cols.append(c)\n",
    "X_train = X_train.drop(different_cols,axis=1)\n",
    "X_test = X_test.drop(different_cols,axis=1)\n",
    "\n",
    "#\n",
    "#   Drop all categorical features except our clusters ('labels')\n",
    "#\n",
    "\n",
    "X_train = X_train.select_dtypes(include=[np.number])\n",
    "X_test = X_test.select_dtypes(include=[np.number])\n",
    "cols = X_train.columns.drop('labels').values\n",
    "cols_all = X_train.columns.values\n",
    "\n",
    "#\n",
    "#   This little estimator returns the groupmean of y by X['labels']\n",
    "#\n",
    "\n",
    "class est_mean:\n",
    "    def __init__(self,label):\n",
    "        self.label = label\n",
    "    def fit(self,X,y):\n",
    "        self.answer = y[X['labels']==self.label].mean()\n",
    "    def predict(self,X):\n",
    "        assert (X['labels']==self.label).all()\n",
    "        res = np.ones(shape=(len(X)))\n",
    "        res = res*self.answer\n",
    "        return res"
   ]
  },
  {
   "cell_type": "code",
   "execution_count": 76,
   "metadata": {
    "collapsed": false
   },
   "outputs": [
    {
     "name": "stdout",
     "output_type": "stream",
     "text": [
      "0\n",
      "10\n",
      "20\n",
      "30\n",
      "40\n",
      "50\n",
      "60\n",
      "70\n",
      "80\n",
      "90\n"
     ]
    },
    {
     "data": {
      "text/html": [
       "<div>\n",
       "<table border=\"1\" class=\"dataframe\">\n",
       "  <thead>\n",
       "    <tr style=\"text-align: right;\">\n",
       "      <th></th>\n",
       "      <th>ID</th>\n",
       "      <th>y</th>\n",
       "    </tr>\n",
       "  </thead>\n",
       "  <tbody>\n",
       "    <tr>\n",
       "      <th>0</th>\n",
       "      <td>1</td>\n",
       "      <td>77.964862</td>\n",
       "    </tr>\n",
       "    <tr>\n",
       "      <th>1</th>\n",
       "      <td>2</td>\n",
       "      <td>100.581468</td>\n",
       "    </tr>\n",
       "    <tr>\n",
       "      <th>2</th>\n",
       "      <td>3</td>\n",
       "      <td>77.964862</td>\n",
       "    </tr>\n",
       "    <tr>\n",
       "      <th>3</th>\n",
       "      <td>4</td>\n",
       "      <td>77.964862</td>\n",
       "    </tr>\n",
       "    <tr>\n",
       "      <th>4</th>\n",
       "      <td>5</td>\n",
       "      <td>115.189239</td>\n",
       "    </tr>\n",
       "  </tbody>\n",
       "</table>\n",
       "</div>"
      ],
      "text/plain": [
       "   ID           y\n",
       "0   1   77.964862\n",
       "1   2  100.581468\n",
       "2   3   77.964862\n",
       "3   4   77.964862\n",
       "4   5  115.189239"
      ]
     },
     "execution_count": 76,
     "metadata": {},
     "output_type": "execute_result"
    }
   ],
   "source": [
    "pred_df = pd.DataFrame(index=X_test.index)\n",
    "for i in range(100):\n",
    "    params3 = {'label':3}\n",
    "    params2 = {\n",
    "        'n_estimators': 90, \n",
    "        'learning_rate': 0.1,\n",
    "        'max_depth': 2,\n",
    "        'gamma': 25,\n",
    "        'subsample': 0.9,\n",
    "        'colsample_bytree':0.6,\n",
    "        'colsample_bylevel':0.8,\n",
    "        'objective': 'reg:linear',\n",
    "        'silent': 1,\n",
    "        'seed':i\n",
    "    }\n",
    "    params1 = {\n",
    "        'n_estimators': 80, \n",
    "        'learning_rate': 0.1,\n",
    "        'max_depth': 2,\n",
    "        'gamma': 30,\n",
    "        'subsample': 0.8,\n",
    "        'colsample_bytree':0.6,\n",
    "        'colsample_bylevel':0.8,\n",
    "        'objective': 'reg:linear',\n",
    "        'silent': 1,\n",
    "        'seed':i\n",
    "    }\n",
    "    params = {\n",
    "        'n_estimators': 90, \n",
    "        'learning_rate': 0.1,\n",
    "        'max_depth': 2,\n",
    "        'gamma': 20,\n",
    "        'subsample': 0.9,\n",
    "        'colsample_bytree':0.6,\n",
    "        'colsample_bylevel':0.9,\n",
    "        'objective': 'reg:linear',\n",
    "        'silent': 1,\n",
    "        'seed':i\n",
    "    }\n",
    "    \n",
    "#\n",
    "#   Iteresting stuff here. For the cluster X['label']==3 we can do absolutely nothing.\n",
    "#   For every object of this cluster we just return the cluster's target mean (est3=est_mean).\n",
    "#   Clusters 1 and 2 are getting overfitted if they look into the labels feature, that's why\n",
    "#   we give them only cols which are all columns except 'labels'.\n",
    "#   For cluster 0 the 'labels' feature has crucial importance, that's why we give it cols_all\n",
    "#\n",
    "\n",
    "    reg = sep_estimator(params,params1,params2,params3,\n",
    "                    cols_all,\n",
    "                    cols,\n",
    "                    cols,\n",
    "                    ['labels'],\n",
    "                    est3=est_mean)\n",
    "    reg.fit(X_train,y_train)\n",
    "    pred_df[str(i)] = reg.predict(X_test)\n",
    "    if i%10==0:\n",
    "        print i\n",
    "sub = pd.DataFrame()\n",
    "sub['ID'] = X_test['ID']\n",
    "sub['y'] = pred_df.mean(axis=1)\n",
    "sub.to_csv('submit_mercedes_11_place.csv', index=False)\n",
    "sub.head()"
   ]
  },
  {
   "cell_type": "markdown",
   "metadata": {},
   "source": [
    "Here is how we are doing for different clusters in test."
   ]
  },
  {
   "cell_type": "code",
   "execution_count": 77,
   "metadata": {
    "collapsed": false
   },
   "outputs": [
    {
     "name": "stdout",
     "output_type": "stream",
     "text": [
      "Populating the interactive namespace from numpy and matplotlib\n"
     ]
    },
    {
     "data": {
      "image/png": "[encoded data removed]",
      "text/plain": [
       "<matplotlib.figure.Figure at 0xc80df28>"
      ]
     },
     "metadata": {},
     "output_type": "display_data"
    }
   ],
   "source": [
    "%pylab inline\n",
    "plt.figure(figsize(10,5))\n",
    "plt.hist(sub['y'].values[X_test['labels']==0],bins=30,label='cluster 0')\n",
    "plt.hist(sub['y'].values[X_test['labels']==1],bins=30,label='cluster 1')\n",
    "plt.hist(sub['y'].values[X_test['labels']==2],bins=30,label='cluster 2')\n",
    "plt.hist(sub['y'].values[X_test['labels']==3],bins=30,label='cluster 3')\n",
    "plt.legend()\n",
    "plt.title('Predictions of y in test for all clusters')\n",
    "plt.show()"
   ]
  }
 ],
 "metadata": {
  "anaconda-cloud": {},
  "kernelspec": {
   "display_name": "Python [Root]",
   "language": "python",
   "name": "Python [Root]"
  },
  "language_info": {
   "codemirror_mode": {
    "name": "ipython",
    "version": 2
   },
   "file_extension": ".py",
   "mimetype": "text/x-python",
   "name": "python",
   "nbconvert_exporter": "python",
   "pygments_lexer": "ipython2",
   "version": "2.7.12"
  }
 },
 "nbformat": 4,
 "nbformat_minor": 0
}
